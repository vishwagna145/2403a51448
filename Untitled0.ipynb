{
  "nbformat": 4,
  "nbformat_minor": 0,
  "metadata": {
    "colab": {
      "provenance": [],
      "authorship_tag": "ABX9TyMmJl8wUe9cXNX6K/6H8YV9",
      "include_colab_link": true
    },
    "kernelspec": {
      "name": "python3",
      "display_name": "Python 3"
    },
    "language_info": {
      "name": "python"
    }
  },
  "cells": [
    {
      "cell_type": "markdown",
      "metadata": {
        "id": "view-in-github",
        "colab_type": "text"
      },
      "source": [
        "<a href=\"https://colab.research.google.com/github/vishwagna145/2403a51448/blob/main/Untitled0.ipynb\" target=\"_parent\"><img src=\"https://colab.research.google.com/assets/colab-badge.svg\" alt=\"Open In Colab\"/></a>"
      ]
    },
    {
      "cell_type": "code",
      "execution_count": 4,
      "metadata": {
        "id": "Ug-gTjIRceIw"
      },
      "outputs": [],
      "source": [
        "data = {\n",
        "    'ID': [1, 2, 3],\n",
        "    'Name': ['Alice', 'Bob', 'Charlie'],\n",
        "    'Age': [25, 30, 35]\n",
        "}"
      ]
    },
    {
      "cell_type": "code",
      "source": [
        "data = [{'ID': 1, 'Name': 'Alice', 'Age': 25},\n",
        "        {'ID': 2, 'Name': 'Bob', 'Age': 30},\n",
        "        {'ID': 3, 'Name': 'Charlie', 'Age': 35}]"
      ],
      "metadata": {
        "id": "G43qpHx4dBWo"
      },
      "execution_count": 3,
      "outputs": []
    },
    {
      "cell_type": "code",
      "source": [
        "data = [(1, 'Alice', 25), (2, 'Bob', 30), (3, 'Charlie', 35)]\n"
      ],
      "metadata": {
        "id": "AS2-I5MqcslT"
      },
      "execution_count": 1,
      "outputs": []
    }
  ]
}